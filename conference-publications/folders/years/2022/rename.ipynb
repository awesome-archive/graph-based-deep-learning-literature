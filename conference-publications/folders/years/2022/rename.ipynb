{
 "cells": [
  {
   "cell_type": "code",
   "execution_count": 1,
   "id": "869ce447-a3e5-4d81-afbf-349d83df7296",
   "metadata": {},
   "outputs": [],
   "source": [
    "import os\n",
    "M = []\n",
    "for m in os.listdir(\"publications_log22\"):\n",
    "    if m != \"README.md\":\n",
    "        f = os.path.join(os.path.join(\"publications_log22\", m, \"README.md\"))\n",
    "        with open(f, \"r\") as f: M.append((m, f.read().replace(\"(LOG)\", \"(LoG)\")))"
   ]
  },
  {
   "cell_type": "code",
   "execution_count": 2,
   "id": "04592e14-43a1-4a45-af41-2ca0c47116b7",
   "metadata": {},
   "outputs": [],
   "source": [
    "for m, c in M:\n",
    "    d = os.path.join(os.path.join(\"plog22\", m))\n",
    "    os.mkdir(d)\n",
    "    f = os.path.join(os.path.join(\"plog22\", m, \"README.md\"))\n",
    "    with open(f, \"w\") as f: f.write(c)"
   ]
  }
 ],
 "metadata": {
  "kernelspec": {
   "display_name": "Python 3 (ipykernel)",
   "language": "python",
   "name": "python3"
  },
  "language_info": {
   "codemirror_mode": {
    "name": "ipython",
    "version": 3
   },
   "file_extension": ".py",
   "mimetype": "text/x-python",
   "name": "python",
   "nbconvert_exporter": "python",
   "pygments_lexer": "ipython3",
   "version": "3.11.4"
  }
 },
 "nbformat": 4,
 "nbformat_minor": 5
}
